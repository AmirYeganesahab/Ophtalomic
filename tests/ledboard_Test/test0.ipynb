{
 "cells": [
  {
   "cell_type": "code",
   "execution_count": 1,
   "metadata": {},
   "outputs": [],
   "source": [
    "import serial"
   ]
  },
  {
   "cell_type": "code",
   "execution_count": 2,
   "metadata": {},
   "outputs": [],
   "source": [
    "class led_module():\n",
    "    infrared_intensity:int\n",
    "    rgb_intensity:int\n",
    "    serial_port:serial.Serial\n",
    "    def __init__(self,\n",
    "                intensities={'rgb':0,\n",
    "                            'infrared':0},\n",
    "                port_settings = {'port':\"/dev/ttyTHS1\",\n",
    "                                'baudrate':115200,\n",
    "                                'bytesize':serial.EIGHTBITS,\n",
    "                                'parity':serial.PARITY_NONE,\n",
    "                                'stopbits':serial.STOPBITS_ONE,\n",
    "                                'timeout':None},\n",
    "                delay_settings = {'trig':1,\n",
    "                                'led':1}\n",
    "                ) -> None:\n",
    "        # intensities = {'rgb':int,'infrared':int}\n",
    "        self.serial_port = serial.Serial(port=port_settings['port'], \n",
    "                                        baudrate=port_settings['baudrate'],\n",
    "                                        bytesize=port_settings['bytesize'],\n",
    "                                        parity=port_settings['parity'],\n",
    "                                        stopbits=port_settings['stopbits'],\n",
    "                                        timeout=None)\n",
    "        self.delays = delay_settings\n",
    "    @property\n",
    "    def cmd_led_delay_set(self):\n",
    "        cmd = [0xAA, 0x03, 0x00, self.delays['trig'], self.delays['led'], 0, 0, 0]\n",
    "        cmd[7] = self.checksum(cmd[:7])\n",
    "        # Convert the command list to bytes\n",
    "        return bytes(cmd)\n",
    "\n",
    "    @property\n",
    "    def cmd_trig(self):\n",
    "        cmd = [0xAA, 0x02, 0x00, 1, 0, 0, 0, 0]\n",
    "        cmd[7] = self.checksum(cmd[:7])\n",
    "        # Convert the command list to bytes\n",
    "        return bytes(cmd)\n",
    "\n",
    "    @property\n",
    "    def cmd_illuminate(self):\n",
    "        cmd = [0xAA, 0x01, 0x00, 0, 0, 0, 0, 0]\n",
    "        cmd[7] = self.checksum(cmd[:7])\n",
    "        # Convert the command list to bytes\n",
    "        return bytes(cmd)\n",
    "    \n",
    "    @property\n",
    "    def all_off(self):\n",
    "        cmd = [0xAA,0x05,0x00,0x00,0x01,int(hex(25),16),0x01,0]\n",
    "        # cmd = [0xAA, 0x05, 0x00, 0, 0, 0, 0, 0]\n",
    "        cmd[7] = self.checksum(cmd[:7])\n",
    "        # Convert the command list to bytes\n",
    "        return bytes(cmd)\n",
    "    \n",
    "    def cmd_ir_led(self,ir_led_no,on_off=0,brightness=0):\n",
    "        cmd = [0xAA, 0x04, 0x00, 0, on_off, brightness, ir_led_no, 0]\n",
    "        cmd[7] = self.checksum(cmd[:7])\n",
    "        # Convert the command list to bytes\n",
    "        return bytes(cmd)\n",
    "\n",
    "    def write(self,cmd=None):\n",
    "        cmd = [0xAA,0x05,0x00,0x00,0x00,int(hex(25),16),0x01,0]\n",
    "        # cmd = [0xAA, 0x05, 0x00, 0, 0, 0, 0, 0]\n",
    "        cmd[7] = self.checksum(cmd[:7])\n",
    "        # Write the command to the serial port\n",
    "        self.serial_port.write(cmd)\n",
    "\n",
    "    def read(self,n_bytes):\n",
    "        # Write the command to the serial port\n",
    "        return self.serial_port.read(n_bytes)\n",
    "\n",
    "    def scan(self):\n",
    "        pass\n",
    "\n",
    "    def checksum(self,cmd):\n",
    "        # Calculate the checksum\n",
    "        checksum = 0\n",
    "        for byte in cmd:\n",
    "            checksum ^= byte \n",
    "        return checksum\n",
    "    \n",
    "    def close(self):\n",
    "        self.serial_port.close()"
   ]
  },
  {
   "cell_type": "code",
   "execution_count": 3,
   "metadata": {},
   "outputs": [
    {
     "ename": "KeyError",
     "evalue": "'write_timeout'",
     "output_type": "error",
     "traceback": [
      "\u001b[0;31m---------------------------------------------------------------------------\u001b[0m",
      "\u001b[0;31mKeyError\u001b[0m                                  Traceback (most recent call last)",
      "\u001b[0;32m<ipython-input-3-43f8e22cd380>\u001b[0m in \u001b[0;36m<module>\u001b[0;34m\u001b[0m\n\u001b[0;32m----> 1\u001b[0;31m \u001b[0mled\u001b[0m \u001b[0;34m=\u001b[0m \u001b[0mled_module\u001b[0m\u001b[0;34m(\u001b[0m\u001b[0;34m)\u001b[0m\u001b[0;34m\u001b[0m\u001b[0;34m\u001b[0m\u001b[0m\n\u001b[0m",
      "\u001b[0;32m<ipython-input-2-824f1853535d>\u001b[0m in \u001b[0;36m__init__\u001b[0;34m(self, intensities, port_settings, delay_settings)\u001b[0m\n\u001b[1;32m     19\u001b[0m                                         \u001b[0mbaudrate\u001b[0m\u001b[0;34m=\u001b[0m\u001b[0mport_settings\u001b[0m\u001b[0;34m[\u001b[0m\u001b[0;34m'baudrate'\u001b[0m\u001b[0;34m]\u001b[0m\u001b[0;34m,\u001b[0m\u001b[0;34m\u001b[0m\u001b[0;34m\u001b[0m\u001b[0m\n\u001b[1;32m     20\u001b[0m                                         \u001b[0mtimeout\u001b[0m\u001b[0;34m=\u001b[0m\u001b[0mport_settings\u001b[0m\u001b[0;34m[\u001b[0m\u001b[0;34m'timeout'\u001b[0m\u001b[0;34m]\u001b[0m\u001b[0;34m,\u001b[0m\u001b[0;34m\u001b[0m\u001b[0;34m\u001b[0m\u001b[0m\n\u001b[0;32m---> 21\u001b[0;31m                                         write_timeout=port_settings['write_timeout'])\n\u001b[0m\u001b[1;32m     22\u001b[0m         \u001b[0mself\u001b[0m\u001b[0;34m.\u001b[0m\u001b[0mdelays\u001b[0m \u001b[0;34m=\u001b[0m \u001b[0mdelay_settings\u001b[0m\u001b[0;34m\u001b[0m\u001b[0;34m\u001b[0m\u001b[0m\n\u001b[1;32m     23\u001b[0m     \u001b[0;34m@\u001b[0m\u001b[0mproperty\u001b[0m\u001b[0;34m\u001b[0m\u001b[0;34m\u001b[0m\u001b[0m\n",
      "\u001b[0;31mKeyError\u001b[0m: 'write_timeout'"
     ]
    }
   ],
   "source": [
    "led = led_module()"
   ]
  },
  {
   "cell_type": "code",
   "execution_count": 11,
   "metadata": {},
   "outputs": [],
   "source": [
    "led.write()"
   ]
  },
  {
   "cell_type": "code",
   "execution_count": null,
   "metadata": {},
   "outputs": [],
   "source": []
  }
 ],
 "metadata": {
  "kernelspec": {
   "display_name": "Python 3",
   "language": "python",
   "name": "python3"
  },
  "language_info": {
   "codemirror_mode": {
    "name": "ipython",
    "version": 3
   },
   "file_extension": ".py",
   "mimetype": "text/x-python",
   "name": "python",
   "nbconvert_exporter": "python",
   "pygments_lexer": "ipython3",
   "version": "3.6.9"
  }
 },
 "nbformat": 4,
 "nbformat_minor": 2
}
